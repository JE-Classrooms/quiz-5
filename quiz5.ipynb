{
 "cells": [
  {
   "cell_type": "markdown",
   "metadata": {},
   "source": [
    "# Quiz 5\n",
    "\n",
    "**Author:**"
   ]
  },
  {
   "cell_type": "markdown",
   "metadata": {},
   "source": [
    "The objective of this quiz is to create a plot to analyze the evolution of lap times in F1 across time. Your goal is to produce the following graph:\n",
    "\n",
    "\n",
    "<img src=\"quiz5.png\" alt=\"drawing\" width=\"1500\"/>"
   ]
  },
  {
   "cell_type": "markdown",
   "metadata": {},
   "source": [
    "**Exercise 1:** create new tables to construct plots\n",
    "\n",
    "1. Import the ```lap_times.csv``` and ```races.csv``` data frames (call them laps and races). Print the headers, and make sure you understand the columns.\n",
    "\n",
    "2. Create a table ```race_year``` containing the ```'raceId'``` for each year.\n",
    "\n",
    "3. Merge the laps table with the race_year table to keep all the information from the left table (laps) and add the years of each race (call the table laps).\n",
    "\n",
    "4. Create a table with the average total time of races per year for the minimum lap time. I recommend to follow the next steps:\n",
    "\n",
    "    4.1. Group the laps table by ```['raceId', 'year', 'lap']``` and return the minimum ```milliseconds```. This table will contain the fastest lap across different drivers for the race, year lap combination (call the table ```race_total_av_time```).\n",
    "\n",
    "    4.2. Group by the race_total_av_time table by ```['raceId', 'year']``` and return the sum of ```milliseconds``` (call this table race_total_av_time again).\n",
    "\n",
    "    4.3. Group by the race_total_av_time table by ```'year'``` and return the average ```milliseconds``` (call this table race_total_av_time again).\n",
    "\n",
    "    4.4. Create a new column in the race_total_av_time table called ```total_minutes``` by dividing ```milliseconds``` by 60,000.\n",
    "\n",
    "5. Create a table with the average lap time by year for the fastest driver. I recommend following the next steps:\n",
    "\n",
    "    5.1. Repeat 4.1. and call the resulting table ```race_av_time```.\n",
    "\n",
    "    5.2. Group by the race_av_time table by ```'year'``` and return the average ```milliseconds``` (call this table race_av_time again).\n",
    "\n",
    "    5.3. Repeat 4.4. for the race_av_time table.\n",
    "\n",
    "6. Merge the total_av_year and race_av_time tables and call the resulting table ```total_av_year```\n",
    "\n",
    "7. Create a table with the fastest and slowest times per year, including the name of the circuit. I recommend following the next steps:\n",
    "\n",
    "    7.1. Group the laps table by year and use the ```agg``` function to return the minimum and maximum milliseconds per year (*hint:* use the tuple option to create new columns as in the last example of lecture15.ipynb, e.g., ```.agg(min_overall=('Overall', min))```). Call the new columns ```mill_min``` and ```mill_max```, and the new table ```laps_min_max```.\n",
    "\n",
    "    7.2. Create the minimum and maximum minutes per year using the same formula from 4.4 (extra 0.2 points if you integrate this step with 7.1. using ```lambda``` functions). Call the new columns ```minutes_min``` and ```minutes_max```.\n",
    "\n",
    "    7.3. Merge the laps_min_max table with the ```laps[['year', 'milliseconds', 'raceId']]``` table on the combination of year and mill_min columns from the table, and year and milliseconds columns from the right table (*hint* use the ```left_on``` and ```right_on``` options in the ```pd.merge``` function). Rename the column ```'raceId'``` as ```min_raceId```, and call the new table laps_min_max again.\n",
    "\n",
    "    7.4. Repeat 7.3. replacing mill_min with mill_max for the table on the left, and renaming ```'raceId'``` as ```max_raceId```. Call the new table laps_min_max again.\n",
    "\n",
    "    7.5. Merge the laps_min_max table with ```races[['raceId', 'name']]``` table using ```min_raceId``` for the table on the left and ```raceId``` for the table on the right, and keeping all the rows in the ```left``` table. Rename the column ```'name'``` as ```min_name```, and call the new table laps_min_max again.\n",
    "\n",
    "    7.6. Repeat 7.5. replacing ```min_raceId``` with ```max_raceId```, and renaming  ```'name'``` as ```max_name```. Call the new table laps_min_max again.\n",
    "\n",
    "    7.7. Print the laps_min_max table. You should have the columns ```['year', 'mill_min', 'mill_max', 'minutes_min', 'minutes_max', 'milliseconds_x', 'min_raceId', 'milliseconds_y', 'max_raceId', 'raceId_x', 'min_name', 'raceId_y' 'max_name']```. What stands out to you regarding the ```min_name``` and ````max_name``` columns?\n",
    "\n",
    "    \n",
    "\n",
    "\n",
    "\n",
    "\n"
   ]
  },
  {
   "cell_type": "code",
   "execution_count": null,
   "metadata": {},
   "outputs": [],
   "source": []
  },
  {
   "cell_type": "markdown",
   "metadata": {},
   "source": [
    "**Exercise 2:** create the combined plots\n",
    "\n",
    "1. Use ```plt.subplots()``` to create the figure and axes with one row and three columns. I recommend using ```figsize=(30,8)```\n",
    "\n",
    "2. For the first axes, we are going to use the function ```ax.twinx()``` to create the two y-axis: average minutes per lap and total minutes per lap. Here are the steps to use this function:\n",
    "\n",
    "    2.1. Create a pandas plot using the ```total_av_year``` table and with ```x='year'``` and ```y='av_minutes'```. Pass the first axes using the option ```ax = ax[0]``` in the plot function. Use the options ```marker='o'``` and ```label = 'Average Minutes'``` to add the dots and the label for the legend. \n",
    "\n",
    "    2.2. Create a new axes ```ax2 = ax[0].twinx()```\n",
    "\n",
    "    2.3. Create a second plot using the  ```total_av_year``` table and with ```x='year'``` and ```y='total_minutes'```. Pass the new axes ```ax2``` with the option ```ax = ax2```. Use the same options as before to add markers and change the label. You can change the color using the option ```color```.\n",
    "\n",
    "    2.4 Change the position of the second legend using the axis function ```ax2.legend(loc = 'upper left')```\n",
    "\n",
    "3. For the other two plots use the table laps_min_max with the values of y being ```minutes_min``` and ```minutes_max```, respectively. \n",
    "\n",
    "4. Print the combined table.\n",
    "\n",
    "5. Before looking at the graph, how would you expect the average time time per lap to evolve with respect to the years? Would you expect the times to increase, decrease, or have no trend? Why?\n",
    "\n",
    "6. Compare the results from the graph with your answer in question 5. Where your expectations correct? What can explain the behavior of the average and total time per lap when you look at the minimum and maximum times per lap?\n"
   ]
  },
  {
   "cell_type": "code",
   "execution_count": null,
   "metadata": {},
   "outputs": [],
   "source": []
  }
 ],
 "metadata": {
  "kernelspec": {
   "display_name": "Python 3.9.0 ('multilayer')",
   "language": "python",
   "name": "python3"
  },
  "language_info": {
   "name": "python",
   "version": "3.9.0"
  },
  "orig_nbformat": 4,
  "vscode": {
   "interpreter": {
    "hash": "11838f79d2aaadbfa3a2adfaf35bacdebdb4e8d9b63957ddf298964812544a76"
   }
  }
 },
 "nbformat": 4,
 "nbformat_minor": 2
}
